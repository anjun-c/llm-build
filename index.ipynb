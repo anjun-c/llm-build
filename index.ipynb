{
 "cells": [
  {
   "cell_type": "code",
   "execution_count": 1,
   "metadata": {},
   "outputs": [
    {
     "name": "stderr",
     "output_type": "stream",
     "text": [
      "c:\\Users\\adria\\anaconda3\\envs\\llm_env_3.11\\Lib\\site-packages\\tqdm\\auto.py:21: TqdmWarning: IProgress not found. Please update jupyter and ipywidgets. See https://ipywidgets.readthedocs.io/en/stable/user_install.html\n",
      "  from .autonotebook import tqdm as notebook_tqdm\n",
      "WARNING:root:'doc_id' is deprecated and 'id_' will be used instead\n",
      "WARNING:root:'doc_id' is deprecated and 'id_' will be used instead\n",
      "WARNING:root:'doc_id' is deprecated and 'id_' will be used instead\n",
      "WARNING:root:'doc_id' is deprecated and 'id_' will be used instead\n",
      "WARNING:root:'doc_id' is deprecated and 'id_' will be used instead\n"
     ]
    }
   ],
   "source": [
    "from llama_index.readers.file import UnstructuredReader\n",
    "from pathlib import Path\n",
    "\n",
    "subjects = ['Biology', 'Chemistry', 'Physics', 'Mathematics', 'Computer_science']\n",
    "\n",
    "loader = UnstructuredReader()\n",
    "doc_set = {}\n",
    "all_docs = []\n",
    "for subject in subjects:\n",
    "    subject_docs = loader.load_data(\n",
    "        file=Path(f\"./data/test/pdf/{subject}.pdf\"), split_documents=False\n",
    "    )\n",
    "    # insert subject and document name metadata into each document\n",
    "    for s in subject_docs:\n",
    "        s.metadata = {\"subject\": subject, \"document_name\": f\"{subject}.pdf\", \"source\": subject}\n",
    "    doc_set[subject] = subject_docs\n",
    "    all_docs.extend(subject_docs)"
   ]
  },
  {
   "cell_type": "code",
   "execution_count": 2,
   "metadata": {},
   "outputs": [],
   "source": [
    "from llama_index.core import VectorStoreIndex, StorageContext, Settings\n",
    "from llama_index.embeddings.huggingface import HuggingFaceEmbedding\n",
    "\n",
    "# Configure document chunking size\n",
    "Settings.chunk_size = 512\n",
    "\n",
    "embed_model = HuggingFaceEmbedding(model_name=\"BAAI/bge-small-en-v1.5\")\n",
    "\n",
    "index_set = {}\n",
    "for subject in subjects:\n",
    "    storage_context = StorageContext.from_defaults()\n",
    "    cur_index = VectorStoreIndex.from_documents(\n",
    "        doc_set[subject],\n",
    "        storage_context=storage_context,\n",
    "        embed_model=embed_model,  # use the open source embeddings model\n",
    "    )\n",
    "    index_set[subject] = cur_index\n",
    "    storage_context.persist(persist_dir=f\"./storage/{subject}\")\n"
   ]
  }
 ],
 "metadata": {
  "kernelspec": {
   "display_name": "llm_env_3.11",
   "language": "python",
   "name": "python3"
  },
  "language_info": {
   "codemirror_mode": {
    "name": "ipython",
    "version": 3
   },
   "file_extension": ".py",
   "mimetype": "text/x-python",
   "name": "python",
   "nbconvert_exporter": "python",
   "pygments_lexer": "ipython3",
   "version": "3.11.11"
  }
 },
 "nbformat": 4,
 "nbformat_minor": 2
}

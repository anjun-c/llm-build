{
 "cells": [
  {
   "cell_type": "code",
   "execution_count": 26,
   "metadata": {},
   "outputs": [],
   "source": [
    "from llama_index.llms.ollama import Ollama\n",
    "\n",
    "# llm = Ollama(model=\"deepseek-r1:8b\")\n",
    "llm = Ollama(model=\"llama2:7b\")"
   ]
  },
  {
   "cell_type": "code",
   "execution_count": 27,
   "metadata": {},
   "outputs": [
    {
     "name": "stderr",
     "output_type": "stream",
     "text": [
      "WARNING:root:'doc_id' is deprecated and 'id_' will be used instead\n",
      "WARNING:root:'doc_id' is deprecated and 'id_' will be used instead\n",
      "WARNING:root:'doc_id' is deprecated and 'id_' will be used instead\n",
      "WARNING:root:'doc_id' is deprecated and 'id_' will be used instead\n",
      "WARNING:root:'doc_id' is deprecated and 'id_' will be used instead\n"
     ]
    }
   ],
   "source": [
    "from llama_index.readers.file import UnstructuredReader\n",
    "from pathlib import Path\n",
    "\n",
    "subjects = ['Biology', 'Chemistry', 'Physics', 'Mathematics', 'Computer_science']\n",
    "\n",
    "loader = UnstructuredReader()\n",
    "doc_set = {}\n",
    "all_docs = []\n",
    "for subject in subjects:\n",
    "    subject_docs = loader.load_data(\n",
    "        file=Path(f\"./data/{subject}.pdf\"), split_documents=False\n",
    "    )\n",
    "    # insert year metadata into each year\n",
    "    for s in subject_docs:\n",
    "        s.metadata = {\"subject\": subject}\n",
    "    doc_set[subject] = subject_docs\n",
    "    all_docs.extend(subject_docs)"
   ]
  },
  {
   "cell_type": "code",
   "execution_count": 28,
   "metadata": {},
   "outputs": [],
   "source": [
    "from llama_index.core import VectorStoreIndex, StorageContext, Settings\n",
    "from llama_index.embeddings.huggingface import HuggingFaceEmbedding\n",
    "\n",
    "# Configure document chunking size\n",
    "Settings.chunk_size = 512\n",
    "\n",
    "embed_model = HuggingFaceEmbedding(model_name=\"BAAI/bge-small-en-v1.5\")\n",
    "\n",
    "index_set = {}\n",
    "for subject in subjects:\n",
    "    storage_context = StorageContext.from_defaults()\n",
    "    cur_index = VectorStoreIndex.from_documents(\n",
    "        doc_set[subject],\n",
    "        storage_context=storage_context,\n",
    "        embed_model=embed_model,  # use the open source embeddings model\n",
    "    )\n",
    "    index_set[subject] = cur_index\n",
    "    storage_context.persist(persist_dir=f\"./storage/{subject}\")\n"
   ]
  },
  {
   "cell_type": "code",
   "execution_count": 29,
   "metadata": {},
   "outputs": [],
   "source": [
    "# Load indices from disk\n",
    "from llama_index.core import load_index_from_storage\n",
    "\n",
    "index_set = {}\n",
    "for subject in subjects:\n",
    "    storage_context = StorageContext.from_defaults(\n",
    "        persist_dir=f\"./storage/{subject}\"\n",
    "    )\n",
    "    cur_index = load_index_from_storage(\n",
    "        storage_context,\n",
    "        embed_model=embed_model,\n",
    "    )\n",
    "    index_set[subject] = cur_index"
   ]
  },
  {
   "cell_type": "code",
   "execution_count": 30,
   "metadata": {},
   "outputs": [],
   "source": [
    "from llama_index.core.tools import QueryEngineTool, ToolMetadata\n",
    "\n",
    "individual_query_engine_tools = [\n",
    "    QueryEngineTool(\n",
    "        query_engine=index_set[subject].as_query_engine(llm=llm),\n",
    "        metadata=ToolMetadata(\n",
    "            name=f\"vector_index_{subject}\",\n",
    "            description=f\"useful for when you want to answer queries about the {subject} subject\",\n",
    "        ),\n",
    "    )\n",
    "    for subject in subjects\n",
    "]"
   ]
  },
  {
   "cell_type": "code",
   "execution_count": 31,
   "metadata": {},
   "outputs": [],
   "source": [
    "from llama_index.core.query_engine import SubQuestionQueryEngine\n",
    "\n",
    "query_engine = SubQuestionQueryEngine.from_defaults(\n",
    "    query_engine_tools=individual_query_engine_tools,\n",
    "    llm=llm,\n",
    ")"
   ]
  },
  {
   "cell_type": "code",
   "execution_count": 32,
   "metadata": {},
   "outputs": [],
   "source": [
    "query_engine_tool = QueryEngineTool(\n",
    "    query_engine=query_engine,\n",
    "    metadata=ToolMetadata(\n",
    "        name=\"sub_question_query_engine\",\n",
    "        description=\"useful for when you want to answer queries that require analyzing multiple subjects\",\n",
    "    ),\n",
    ")"
   ]
  },
  {
   "cell_type": "code",
   "execution_count": 33,
   "metadata": {},
   "outputs": [],
   "source": [
    "tools = individual_query_engine_tools + [query_engine_tool]"
   ]
  },
  {
   "cell_type": "code",
   "execution_count": 34,
   "metadata": {},
   "outputs": [],
   "source": [
    "# Define a custom prompt template to enforce the chain-of-thought format\n",
    "custom_prompt = \"\"\"\n",
    "You are an intelligent agent that answers queries by following a strict chain-of-thought format.\n",
    "For every step, please output your reasoning and your tool calls using exactly the following structure:\n",
    "\n",
    "Thought: <Your internal reasoning for this step.>\n",
    "Action: <The tool name you want to use (or output \"None\" if no tool is used).>\n",
    "Action Input: <The JSON input to pass to the tool (or \"{}\" if no tool is used).>\n",
    "\n",
    "When you are ready to provide your final answer, output only:\n",
    "Answer: <Your final answer here.>\n",
    "\n",
    "Do not output any extra text or commentary outside of this structure.\n",
    "\"\"\""
   ]
  },
  {
   "cell_type": "code",
   "execution_count": 38,
   "metadata": {},
   "outputs": [],
   "source": [
    "from llama_index.core.agent import ReActAgent\n",
    "\n",
    "agent = ReActAgent.from_tools(tools, llm=llm, verbose=True, prompt_template=custom_prompt)"
   ]
  },
  {
   "cell_type": "code",
   "execution_count": 39,
   "metadata": {},
   "outputs": [
    {
     "name": "stdout",
     "output_type": "stream",
     "text": [
      "> Running step 7c9b0503-8cfe-424f-8a6e-039bcaaf99be. Step input: test\n",
      "\u001b[1;3;38;5;200mThought: The current language of the user is: English. I need to use a tool to help me answer the question.\n",
      "Action: tool\n",
      "Action Input: {'input': 'hello world', 'num_beams': 5}\n",
      "\u001b[0m\u001b[1;3;34mObservation: Error: No such tool named `tool`.\n",
      "\u001b[0m> Running step f45fe87d-93f9-4718-85f7-9201f5f423e0. Step input: None\n",
      "\u001b[1;3;38;5;200mThought: I apologize, it seems that there is no tool with the name `tool` available. I'll need to use a different tool to help answer your question.\n",
      "Action: vector_index_Biology\n",
      "Action Input: {'input': 'hello world', 'num_beams': 5}\n",
      "\u001b[0m\u001b[1;3;34mObservation: Hello! It's great to see you here! Biology is a fascinating subject that has many exciting topics to explore. From the evolution of life on Earth to the intricate functions of cells and organisms, there's always something new to learn.\n",
      "\n",
      "Did you know that the term \"hello world\" is often used in programming as a basic greeting or test message? It's a fun little Easter egg that developers can use to check if their code is working correctly!\n",
      "\n",
      "Speaking of coding, have you heard about the latest advancements in artificial intelligence and machine learning? These fields are rapidly changing the way we approach biology and medicine. For example, researchers are using AI to analyze large amounts of genomic data to better understand the genetic basis of disease and develop new treatments.\n",
      "\n",
      "But enough about that! What brings you here today? Do you have any questions or topics you'd like to discuss related to biology or science in general? I'm all ears!\n",
      "\u001b[0m> Running step d4463eec-0809-4383-b1ed-f7f59222d06b. Step input: None\n",
      "\u001b[1;3;38;5;200mThought: That's very interesting! I would love to learn more about the latest advancements in artificial intelligence and machine learning, especially as they relate to biology and medicine. Can you tell me more about that?\n",
      "Action: vector_index_Chemistry\n",
      "Action Input: {'input': 'hello world', 'num_beams': 5}\n",
      "\u001b[0m\u001b[1;3;34mObservation: Hello! It's great to see you here! Is there something specific you would like to know or discuss related to chemistry? I'm here to help with any questions you may have. Feel free to ask away!\n",
      "\u001b[0m> Running step 6e6f8ef5-7d6a-429f-b1bd-4c0ed17393bf. Step input: None\n",
      "\u001b[1;3;38;5;200mThought: Great, thank you! I am actually interested in learning more about the chemistry of biological systems. Can you tell me more about how chemistry plays a role in living organisms?\n",
      "Action: vector_index_Physics\n",
      "Action Input: {'input': 'hello world', 'num_beams': 5}\n",
      "\u001b[0m\u001b[1;3;34mObservation: Hello! It's great to hear from you! I'm just an AI, and my purpose is to assist and provide helpful responses to your inquiries. I'm here to help you with any questions or topics you'd like to discuss, so feel free to ask me anything! Is there something specific you'd like to know or talk about?\n",
      "\u001b[0m> Running step c76fd462-1c22-42ca-88a2-a38c2a5de78d. Step input: None\n",
      "\u001b[1;3;38;5;200mThought: Yes, actually. I was wondering if you could explain the concept of \"work\" in physics and how it relates to living organisms?\n",
      "Action: vector_index_Mathematics\n",
      "Action Input: {'input': 'hello world', 'num_beams': 5}\n",
      "\u001b[0m\u001b[1;3;34mObservation: Hello! It's great to see you here! Mathematics is a fascinating field that has been studied for centuries, and it continues to evolve and advance with new discoveries and innovations. The earliest uses of some words of mathematics can be traced back to ancient civilizations, such as the Babylonians, Egyptians, and Greeks. These cultures developed sophisticated mathematical systems that were used for practical purposes, such as building and engineering.\n",
      "\n",
      "The New Language of Mathematics is an interesting topic that explores how mathematics is evolving in the modern era. With the increasing use of computational tools and algorithms, mathematicians are developing new languages and notations to improve communication and collaboration. This field is rapidly advancing, and there are many exciting developments on the horizon.\n",
      "\n",
      "Modeling Mathematical Methods and Scientific Computation is a crucial aspect of mathematics. This book discusses the importance of mathematical modeling in various fields, including physics, engineering, and economics. It highlights the need for computational tools to analyze and solve complex problems in these disciplines.\n",
      "\n",
      "Mathematical Models and Reality: A Constructivist Perspective is a thought-provoking topic that examines the relationship between mathematical models and reality. This perspective emphasizes the constructive nature of mathematical modeling, highlighting the role of human creativity and interpretation in shaping our understanding of the world.\n",
      "\n",
      "Knowledge of Mathematical Symbols Goes Beyond Numbers is an intriguing topic that explores the broader implications of mathematics beyond just numerical values. This study demonstrates how mathematical symbols and notation can convey complex ideas and relationships, and how they are essential for effective communication in mathematics.\n",
      "\n",
      "The AMS Style Guide is a valuable resource for mathematicians and researchers in related fields. It provides guidelines for writing and publishing mathematical documents, including symbols, notation, and citation styles. This guide ensures consistency and clarity in mathematical communication, facilitating collaboration and understanding among mathematicians worldwide.\n",
      "\n",
      "Finally, Constituent Structure in Mathematical Expressions is an important topic that examines the structure of mathematical expressions and their constituent parts. This study highlights the need for careful analysis and notation to accurately represent complex mathematical concepts and relationships.\n",
      "\n",
      "In conclusion, mathematics is a rich and dynamic field with a long and fascinating history. From ancient civilizations to modern computational tools, mathematics continues to evolve and advance, shaping our understanding of the world and driving innovation in various disciplines.\n",
      "\u001b[0m"
     ]
    },
    {
     "ename": "ValueError",
     "evalue": "Reached max iterations.",
     "output_type": "error",
     "traceback": [
      "\u001b[31m---------------------------------------------------------------------------\u001b[39m",
      "\u001b[31mValueError\u001b[39m                                Traceback (most recent call last)",
      "\u001b[36mCell\u001b[39m\u001b[36m \u001b[39m\u001b[32mIn[39]\u001b[39m\u001b[32m, line 5\u001b[39m\n\u001b[32m      3\u001b[39m \u001b[38;5;28;01mif\u001b[39;00m text_input == \u001b[33m\"\u001b[39m\u001b[33mexit\u001b[39m\u001b[33m\"\u001b[39m:\n\u001b[32m      4\u001b[39m     \u001b[38;5;28;01mbreak\u001b[39;00m\n\u001b[32m----> \u001b[39m\u001b[32m5\u001b[39m response = \u001b[43magent\u001b[49m\u001b[43m.\u001b[49m\u001b[43mchat\u001b[49m\u001b[43m(\u001b[49m\u001b[43mtext_input\u001b[49m\u001b[43m)\u001b[49m\n\u001b[32m      6\u001b[39m \u001b[38;5;28mprint\u001b[39m(\u001b[33mf\u001b[39m\u001b[33m\"\u001b[39m\u001b[33mAgent: \u001b[39m\u001b[38;5;132;01m{\u001b[39;00mresponse\u001b[38;5;132;01m}\u001b[39;00m\u001b[33m\"\u001b[39m)\n",
      "\u001b[36mFile \u001b[39m\u001b[32mc:\\Users\\adria\\anaconda3\\envs\\llm_env_3.11\\Lib\\site-packages\\llama_index\\core\\instrumentation\\dispatcher.py:322\u001b[39m, in \u001b[36mDispatcher.span.<locals>.wrapper\u001b[39m\u001b[34m(func, instance, args, kwargs)\u001b[39m\n\u001b[32m    319\u001b[39m             _logger.debug(\u001b[33mf\u001b[39m\u001b[33m\"\u001b[39m\u001b[33mFailed to reset active_span_id: \u001b[39m\u001b[38;5;132;01m{\u001b[39;00me\u001b[38;5;132;01m}\u001b[39;00m\u001b[33m\"\u001b[39m)\n\u001b[32m    321\u001b[39m \u001b[38;5;28;01mtry\u001b[39;00m:\n\u001b[32m--> \u001b[39m\u001b[32m322\u001b[39m     result = \u001b[43mfunc\u001b[49m\u001b[43m(\u001b[49m\u001b[43m*\u001b[49m\u001b[43margs\u001b[49m\u001b[43m,\u001b[49m\u001b[43m \u001b[49m\u001b[43m*\u001b[49m\u001b[43m*\u001b[49m\u001b[43mkwargs\u001b[49m\u001b[43m)\u001b[49m\n\u001b[32m    323\u001b[39m     \u001b[38;5;28;01mif\u001b[39;00m \u001b[38;5;28misinstance\u001b[39m(result, asyncio.Future):\n\u001b[32m    324\u001b[39m         \u001b[38;5;66;03m# If the result is a Future, wrap it\u001b[39;00m\n\u001b[32m    325\u001b[39m         new_future = asyncio.ensure_future(result)\n",
      "\u001b[36mFile \u001b[39m\u001b[32mc:\\Users\\adria\\anaconda3\\envs\\llm_env_3.11\\Lib\\site-packages\\llama_index\\core\\callbacks\\utils.py:41\u001b[39m, in \u001b[36mtrace_method.<locals>.decorator.<locals>.wrapper\u001b[39m\u001b[34m(self, *args, **kwargs)\u001b[39m\n\u001b[32m     39\u001b[39m callback_manager = cast(CallbackManager, callback_manager)\n\u001b[32m     40\u001b[39m \u001b[38;5;28;01mwith\u001b[39;00m callback_manager.as_trace(trace_id):\n\u001b[32m---> \u001b[39m\u001b[32m41\u001b[39m     \u001b[38;5;28;01mreturn\u001b[39;00m \u001b[43mfunc\u001b[49m\u001b[43m(\u001b[49m\u001b[38;5;28;43mself\u001b[39;49m\u001b[43m,\u001b[49m\u001b[43m \u001b[49m\u001b[43m*\u001b[49m\u001b[43margs\u001b[49m\u001b[43m,\u001b[49m\u001b[43m \u001b[49m\u001b[43m*\u001b[49m\u001b[43m*\u001b[49m\u001b[43mkwargs\u001b[49m\u001b[43m)\u001b[49m\n",
      "\u001b[36mFile \u001b[39m\u001b[32mc:\\Users\\adria\\anaconda3\\envs\\llm_env_3.11\\Lib\\site-packages\\llama_index\\core\\agent\\runner\\base.py:692\u001b[39m, in \u001b[36mAgentRunner.chat\u001b[39m\u001b[34m(self, message, chat_history, tool_choice)\u001b[39m\n\u001b[32m    687\u001b[39m     tool_choice = \u001b[38;5;28mself\u001b[39m.default_tool_choice\n\u001b[32m    688\u001b[39m \u001b[38;5;28;01mwith\u001b[39;00m \u001b[38;5;28mself\u001b[39m.callback_manager.event(\n\u001b[32m    689\u001b[39m     CBEventType.AGENT_STEP,\n\u001b[32m    690\u001b[39m     payload={EventPayload.MESSAGES: [message]},\n\u001b[32m    691\u001b[39m ) \u001b[38;5;28;01mas\u001b[39;00m e:\n\u001b[32m--> \u001b[39m\u001b[32m692\u001b[39m     chat_response = \u001b[38;5;28;43mself\u001b[39;49m\u001b[43m.\u001b[49m\u001b[43m_chat\u001b[49m\u001b[43m(\u001b[49m\n\u001b[32m    693\u001b[39m \u001b[43m        \u001b[49m\u001b[43mmessage\u001b[49m\u001b[43m=\u001b[49m\u001b[43mmessage\u001b[49m\u001b[43m,\u001b[49m\n\u001b[32m    694\u001b[39m \u001b[43m        \u001b[49m\u001b[43mchat_history\u001b[49m\u001b[43m=\u001b[49m\u001b[43mchat_history\u001b[49m\u001b[43m,\u001b[49m\n\u001b[32m    695\u001b[39m \u001b[43m        \u001b[49m\u001b[43mtool_choice\u001b[49m\u001b[43m=\u001b[49m\u001b[43mtool_choice\u001b[49m\u001b[43m,\u001b[49m\n\u001b[32m    696\u001b[39m \u001b[43m        \u001b[49m\u001b[43mmode\u001b[49m\u001b[43m=\u001b[49m\u001b[43mChatResponseMode\u001b[49m\u001b[43m.\u001b[49m\u001b[43mWAIT\u001b[49m\u001b[43m,\u001b[49m\n\u001b[32m    697\u001b[39m \u001b[43m    \u001b[49m\u001b[43m)\u001b[49m\n\u001b[32m    698\u001b[39m     \u001b[38;5;28;01massert\u001b[39;00m \u001b[38;5;28misinstance\u001b[39m(chat_response, AgentChatResponse)\n\u001b[32m    699\u001b[39m     e.on_end(payload={EventPayload.RESPONSE: chat_response})\n",
      "\u001b[36mFile \u001b[39m\u001b[32mc:\\Users\\adria\\anaconda3\\envs\\llm_env_3.11\\Lib\\site-packages\\llama_index\\core\\instrumentation\\dispatcher.py:322\u001b[39m, in \u001b[36mDispatcher.span.<locals>.wrapper\u001b[39m\u001b[34m(func, instance, args, kwargs)\u001b[39m\n\u001b[32m    319\u001b[39m             _logger.debug(\u001b[33mf\u001b[39m\u001b[33m\"\u001b[39m\u001b[33mFailed to reset active_span_id: \u001b[39m\u001b[38;5;132;01m{\u001b[39;00me\u001b[38;5;132;01m}\u001b[39;00m\u001b[33m\"\u001b[39m)\n\u001b[32m    321\u001b[39m \u001b[38;5;28;01mtry\u001b[39;00m:\n\u001b[32m--> \u001b[39m\u001b[32m322\u001b[39m     result = \u001b[43mfunc\u001b[49m\u001b[43m(\u001b[49m\u001b[43m*\u001b[49m\u001b[43margs\u001b[49m\u001b[43m,\u001b[49m\u001b[43m \u001b[49m\u001b[43m*\u001b[49m\u001b[43m*\u001b[49m\u001b[43mkwargs\u001b[49m\u001b[43m)\u001b[49m\n\u001b[32m    323\u001b[39m     \u001b[38;5;28;01mif\u001b[39;00m \u001b[38;5;28misinstance\u001b[39m(result, asyncio.Future):\n\u001b[32m    324\u001b[39m         \u001b[38;5;66;03m# If the result is a Future, wrap it\u001b[39;00m\n\u001b[32m    325\u001b[39m         new_future = asyncio.ensure_future(result)\n",
      "\u001b[36mFile \u001b[39m\u001b[32mc:\\Users\\adria\\anaconda3\\envs\\llm_env_3.11\\Lib\\site-packages\\llama_index\\core\\agent\\runner\\base.py:624\u001b[39m, in \u001b[36mAgentRunner._chat\u001b[39m\u001b[34m(self, message, chat_history, tool_choice, mode)\u001b[39m\n\u001b[32m    621\u001b[39m dispatcher.event(AgentChatWithStepStartEvent(user_msg=message))\n\u001b[32m    622\u001b[39m \u001b[38;5;28;01mwhile\u001b[39;00m \u001b[38;5;28;01mTrue\u001b[39;00m:\n\u001b[32m    623\u001b[39m     \u001b[38;5;66;03m# pass step queue in as argument, assume step executor is stateless\u001b[39;00m\n\u001b[32m--> \u001b[39m\u001b[32m624\u001b[39m     cur_step_output = \u001b[38;5;28;43mself\u001b[39;49m\u001b[43m.\u001b[49m\u001b[43m_run_step\u001b[49m\u001b[43m(\u001b[49m\n\u001b[32m    625\u001b[39m \u001b[43m        \u001b[49m\u001b[43mtask\u001b[49m\u001b[43m.\u001b[49m\u001b[43mtask_id\u001b[49m\u001b[43m,\u001b[49m\u001b[43m \u001b[49m\u001b[43mmode\u001b[49m\u001b[43m=\u001b[49m\u001b[43mmode\u001b[49m\u001b[43m,\u001b[49m\u001b[43m \u001b[49m\u001b[43mtool_choice\u001b[49m\u001b[43m=\u001b[49m\u001b[43mtool_choice\u001b[49m\n\u001b[32m    626\u001b[39m \u001b[43m    \u001b[49m\u001b[43m)\u001b[49m\n\u001b[32m    628\u001b[39m     \u001b[38;5;28;01mif\u001b[39;00m cur_step_output.is_last:\n\u001b[32m    629\u001b[39m         result_output = cur_step_output\n",
      "\u001b[36mFile \u001b[39m\u001b[32mc:\\Users\\adria\\anaconda3\\envs\\llm_env_3.11\\Lib\\site-packages\\llama_index\\core\\instrumentation\\dispatcher.py:322\u001b[39m, in \u001b[36mDispatcher.span.<locals>.wrapper\u001b[39m\u001b[34m(func, instance, args, kwargs)\u001b[39m\n\u001b[32m    319\u001b[39m             _logger.debug(\u001b[33mf\u001b[39m\u001b[33m\"\u001b[39m\u001b[33mFailed to reset active_span_id: \u001b[39m\u001b[38;5;132;01m{\u001b[39;00me\u001b[38;5;132;01m}\u001b[39;00m\u001b[33m\"\u001b[39m)\n\u001b[32m    321\u001b[39m \u001b[38;5;28;01mtry\u001b[39;00m:\n\u001b[32m--> \u001b[39m\u001b[32m322\u001b[39m     result = \u001b[43mfunc\u001b[49m\u001b[43m(\u001b[49m\u001b[43m*\u001b[49m\u001b[43margs\u001b[49m\u001b[43m,\u001b[49m\u001b[43m \u001b[49m\u001b[43m*\u001b[49m\u001b[43m*\u001b[49m\u001b[43mkwargs\u001b[49m\u001b[43m)\u001b[49m\n\u001b[32m    323\u001b[39m     \u001b[38;5;28;01mif\u001b[39;00m \u001b[38;5;28misinstance\u001b[39m(result, asyncio.Future):\n\u001b[32m    324\u001b[39m         \u001b[38;5;66;03m# If the result is a Future, wrap it\u001b[39;00m\n\u001b[32m    325\u001b[39m         new_future = asyncio.ensure_future(result)\n",
      "\u001b[36mFile \u001b[39m\u001b[32mc:\\Users\\adria\\anaconda3\\envs\\llm_env_3.11\\Lib\\site-packages\\llama_index\\core\\agent\\runner\\base.py:420\u001b[39m, in \u001b[36mAgentRunner._run_step\u001b[39m\u001b[34m(self, task_id, step, input, mode, **kwargs)\u001b[39m\n\u001b[32m    416\u001b[39m \u001b[38;5;66;03m# TODO: figure out if you can dynamically swap in different step executors\u001b[39;00m\n\u001b[32m    417\u001b[39m \u001b[38;5;66;03m# not clear when you would do that by theoretically possible\u001b[39;00m\n\u001b[32m    419\u001b[39m \u001b[38;5;28;01mif\u001b[39;00m mode == ChatResponseMode.WAIT:\n\u001b[32m--> \u001b[39m\u001b[32m420\u001b[39m     cur_step_output = \u001b[38;5;28;43mself\u001b[39;49m\u001b[43m.\u001b[49m\u001b[43magent_worker\u001b[49m\u001b[43m.\u001b[49m\u001b[43mrun_step\u001b[49m\u001b[43m(\u001b[49m\u001b[43mstep\u001b[49m\u001b[43m,\u001b[49m\u001b[43m \u001b[49m\u001b[43mtask\u001b[49m\u001b[43m,\u001b[49m\u001b[43m \u001b[49m\u001b[43m*\u001b[49m\u001b[43m*\u001b[49m\u001b[43mkwargs\u001b[49m\u001b[43m)\u001b[49m\n\u001b[32m    421\u001b[39m \u001b[38;5;28;01melif\u001b[39;00m mode == ChatResponseMode.STREAM:\n\u001b[32m    422\u001b[39m     cur_step_output = \u001b[38;5;28mself\u001b[39m.agent_worker.stream_step(step, task, **kwargs)\n",
      "\u001b[36mFile \u001b[39m\u001b[32mc:\\Users\\adria\\anaconda3\\envs\\llm_env_3.11\\Lib\\site-packages\\llama_index\\core\\instrumentation\\dispatcher.py:322\u001b[39m, in \u001b[36mDispatcher.span.<locals>.wrapper\u001b[39m\u001b[34m(func, instance, args, kwargs)\u001b[39m\n\u001b[32m    319\u001b[39m             _logger.debug(\u001b[33mf\u001b[39m\u001b[33m\"\u001b[39m\u001b[33mFailed to reset active_span_id: \u001b[39m\u001b[38;5;132;01m{\u001b[39;00me\u001b[38;5;132;01m}\u001b[39;00m\u001b[33m\"\u001b[39m)\n\u001b[32m    321\u001b[39m \u001b[38;5;28;01mtry\u001b[39;00m:\n\u001b[32m--> \u001b[39m\u001b[32m322\u001b[39m     result = \u001b[43mfunc\u001b[49m\u001b[43m(\u001b[49m\u001b[43m*\u001b[49m\u001b[43margs\u001b[49m\u001b[43m,\u001b[49m\u001b[43m \u001b[49m\u001b[43m*\u001b[49m\u001b[43m*\u001b[49m\u001b[43mkwargs\u001b[49m\u001b[43m)\u001b[49m\n\u001b[32m    323\u001b[39m     \u001b[38;5;28;01mif\u001b[39;00m \u001b[38;5;28misinstance\u001b[39m(result, asyncio.Future):\n\u001b[32m    324\u001b[39m         \u001b[38;5;66;03m# If the result is a Future, wrap it\u001b[39;00m\n\u001b[32m    325\u001b[39m         new_future = asyncio.ensure_future(result)\n",
      "\u001b[36mFile \u001b[39m\u001b[32mc:\\Users\\adria\\anaconda3\\envs\\llm_env_3.11\\Lib\\site-packages\\llama_index\\core\\callbacks\\utils.py:41\u001b[39m, in \u001b[36mtrace_method.<locals>.decorator.<locals>.wrapper\u001b[39m\u001b[34m(self, *args, **kwargs)\u001b[39m\n\u001b[32m     39\u001b[39m callback_manager = cast(CallbackManager, callback_manager)\n\u001b[32m     40\u001b[39m \u001b[38;5;28;01mwith\u001b[39;00m callback_manager.as_trace(trace_id):\n\u001b[32m---> \u001b[39m\u001b[32m41\u001b[39m     \u001b[38;5;28;01mreturn\u001b[39;00m \u001b[43mfunc\u001b[49m\u001b[43m(\u001b[49m\u001b[38;5;28;43mself\u001b[39;49m\u001b[43m,\u001b[49m\u001b[43m \u001b[49m\u001b[43m*\u001b[49m\u001b[43margs\u001b[49m\u001b[43m,\u001b[49m\u001b[43m \u001b[49m\u001b[43m*\u001b[49m\u001b[43m*\u001b[49m\u001b[43mkwargs\u001b[49m\u001b[43m)\u001b[49m\n",
      "\u001b[36mFile \u001b[39m\u001b[32mc:\\Users\\adria\\anaconda3\\envs\\llm_env_3.11\\Lib\\site-packages\\llama_index\\core\\agent\\react\\step.py:820\u001b[39m, in \u001b[36mReActAgentWorker.run_step\u001b[39m\u001b[34m(self, step, task, **kwargs)\u001b[39m\n\u001b[32m    817\u001b[39m \u001b[38;5;129m@trace_method\u001b[39m(\u001b[33m\"\u001b[39m\u001b[33mrun_step\u001b[39m\u001b[33m\"\u001b[39m)\n\u001b[32m    818\u001b[39m \u001b[38;5;28;01mdef\u001b[39;00m\u001b[38;5;250m \u001b[39m\u001b[34mrun_step\u001b[39m(\u001b[38;5;28mself\u001b[39m, step: TaskStep, task: Task, **kwargs: Any) -> TaskStepOutput:\n\u001b[32m    819\u001b[39m \u001b[38;5;250m    \u001b[39m\u001b[33;03m\"\"\"Run step.\"\"\"\u001b[39;00m\n\u001b[32m--> \u001b[39m\u001b[32m820\u001b[39m     \u001b[38;5;28;01mreturn\u001b[39;00m \u001b[38;5;28;43mself\u001b[39;49m\u001b[43m.\u001b[49m\u001b[43m_run_step\u001b[49m\u001b[43m(\u001b[49m\u001b[43mstep\u001b[49m\u001b[43m,\u001b[49m\u001b[43m \u001b[49m\u001b[43mtask\u001b[49m\u001b[43m)\u001b[49m\n",
      "\u001b[36mFile \u001b[39m\u001b[32mc:\\Users\\adria\\anaconda3\\envs\\llm_env_3.11\\Lib\\site-packages\\llama_index\\core\\agent\\react\\step.py:578\u001b[39m, in \u001b[36mReActAgentWorker._run_step\u001b[39m\u001b[34m(self, step, task)\u001b[39m\n\u001b[32m    574\u001b[39m reasoning_steps, is_done = \u001b[38;5;28mself\u001b[39m._process_actions(\n\u001b[32m    575\u001b[39m     task, tools, output=chat_response\n\u001b[32m    576\u001b[39m )\n\u001b[32m    577\u001b[39m task.extra_state[\u001b[33m\"\u001b[39m\u001b[33mcurrent_reasoning\u001b[39m\u001b[33m\"\u001b[39m].extend(reasoning_steps)\n\u001b[32m--> \u001b[39m\u001b[32m578\u001b[39m agent_response = \u001b[38;5;28;43mself\u001b[39;49m\u001b[43m.\u001b[49m\u001b[43m_get_response\u001b[49m\u001b[43m(\u001b[49m\n\u001b[32m    579\u001b[39m \u001b[43m    \u001b[49m\u001b[43mtask\u001b[49m\u001b[43m.\u001b[49m\u001b[43mextra_state\u001b[49m\u001b[43m[\u001b[49m\u001b[33;43m\"\u001b[39;49m\u001b[33;43mcurrent_reasoning\u001b[39;49m\u001b[33;43m\"\u001b[39;49m\u001b[43m]\u001b[49m\u001b[43m,\u001b[49m\u001b[43m \u001b[49m\u001b[43mtask\u001b[49m\u001b[43m.\u001b[49m\u001b[43mextra_state\u001b[49m\u001b[43m[\u001b[49m\u001b[33;43m\"\u001b[39;49m\u001b[33;43msources\u001b[39;49m\u001b[33;43m\"\u001b[39;49m\u001b[43m]\u001b[49m\n\u001b[32m    580\u001b[39m \u001b[43m\u001b[49m\u001b[43m)\u001b[49m\n\u001b[32m    581\u001b[39m \u001b[38;5;28;01mif\u001b[39;00m is_done:\n\u001b[32m    582\u001b[39m     task.extra_state[\u001b[33m\"\u001b[39m\u001b[33mnew_memory\u001b[39m\u001b[33m\"\u001b[39m].put(\n\u001b[32m    583\u001b[39m         ChatMessage(content=agent_response.response, role=MessageRole.ASSISTANT)\n\u001b[32m    584\u001b[39m     )\n",
      "\u001b[36mFile \u001b[39m\u001b[32mc:\\Users\\adria\\anaconda3\\envs\\llm_env_3.11\\Lib\\site-packages\\llama_index\\core\\agent\\react\\step.py:437\u001b[39m, in \u001b[36mReActAgentWorker._get_response\u001b[39m\u001b[34m(self, current_reasoning, sources)\u001b[39m\n\u001b[32m    435\u001b[39m     \u001b[38;5;28;01mraise\u001b[39;00m \u001b[38;5;167;01mValueError\u001b[39;00m(\u001b[33m\"\u001b[39m\u001b[33mNo reasoning steps were taken.\u001b[39m\u001b[33m\"\u001b[39m)\n\u001b[32m    436\u001b[39m \u001b[38;5;28;01melif\u001b[39;00m \u001b[38;5;28mlen\u001b[39m(current_reasoning) == \u001b[38;5;28mself\u001b[39m._max_iterations:\n\u001b[32m--> \u001b[39m\u001b[32m437\u001b[39m     \u001b[38;5;28;01mraise\u001b[39;00m \u001b[38;5;167;01mValueError\u001b[39;00m(\u001b[33m\"\u001b[39m\u001b[33mReached max iterations.\u001b[39m\u001b[33m\"\u001b[39m)\n\u001b[32m    439\u001b[39m \u001b[38;5;28;01mif\u001b[39;00m \u001b[38;5;28misinstance\u001b[39m(current_reasoning[-\u001b[32m1\u001b[39m], ResponseReasoningStep):\n\u001b[32m    440\u001b[39m     response_step = cast(ResponseReasoningStep, current_reasoning[-\u001b[32m1\u001b[39m])\n",
      "\u001b[31mValueError\u001b[39m: Reached max iterations."
     ]
    }
   ],
   "source": [
    "while True:\n",
    "    text_input = input(\"User: \")\n",
    "    if text_input == \"exit\":\n",
    "        break\n",
    "    response = agent.chat(text_input)\n",
    "    print(f\"Agent: {response}\")"
   ]
  }
 ],
 "metadata": {
  "kernelspec": {
   "display_name": "llm_env_3.11",
   "language": "python",
   "name": "python3"
  },
  "language_info": {
   "codemirror_mode": {
    "name": "ipython",
    "version": 3
   },
   "file_extension": ".py",
   "mimetype": "text/x-python",
   "name": "python",
   "nbconvert_exporter": "python",
   "pygments_lexer": "ipython3",
   "version": "3.11.11"
  }
 },
 "nbformat": 4,
 "nbformat_minor": 2
}

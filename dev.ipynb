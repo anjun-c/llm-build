{
 "cells": [
  {
   "cell_type": "code",
   "execution_count": 1,
   "id": "78e7fbfc",
   "metadata": {},
   "outputs": [
    {
     "name": "stderr",
     "output_type": "stream",
     "text": [
      "C:\\Users\\adria\\AppData\\Local\\Temp\\ipykernel_5752\\2980094436.py:4: LangChainDeprecationWarning: The class `ChatOllama` was deprecated in LangChain 0.3.1 and will be removed in 1.0.0. An updated version of the class exists in the :class:`~langchain-ollama package and should be used instead. To use it run `pip install -U :class:`~langchain-ollama` and import as `from :class:`~langchain_ollama import ChatOllama``.\n",
      "  llm = ChatOllama(model=\"tinyllama:latest\", request_timeout=60)\n"
     ]
    }
   ],
   "source": [
    "from langchain_community.chat_models import ChatOllama\n",
    "\n",
    "#llm = ChatOllama(model=\"llama3.1:latest\", request_timeout=60)\n",
    "llm = ChatOllama(model=\"tinyllama:latest\", request_timeout=60)"
   ]
  },
  {
   "cell_type": "code",
   "execution_count": 2,
   "id": "ae4ecb11",
   "metadata": {},
   "outputs": [
    {
     "name": "stderr",
     "output_type": "stream",
     "text": [
      "C:\\Users\\adria\\AppData\\Local\\Temp\\ipykernel_5752\\2586686258.py:4: LangChainDeprecationWarning: The class `HuggingFaceEmbeddings` was deprecated in LangChain 0.2.2 and will be removed in 1.0. An updated version of the class exists in the :class:`~langchain-huggingface package and should be used instead. To use it run `pip install -U :class:`~langchain-huggingface` and import as `from :class:`~langchain_huggingface import HuggingFaceEmbeddings``.\n",
      "  embeddings = HuggingFaceEmbeddings(model_name=\"BAAI/bge-base-en-v1.5\")\n",
      "c:\\Users\\adria\\anaconda3\\envs\\LLM_ENV_LANGCHAIN\\Lib\\site-packages\\tqdm\\auto.py:21: TqdmWarning: IProgress not found. Please update jupyter and ipywidgets. See https://ipywidgets.readthedocs.io/en/stable/user_install.html\n",
      "  from .autonotebook import tqdm as notebook_tqdm\n",
      "  0%|          | 0/5 [00:00<?, ?it/s]libmagic is unavailable but assists in filetype detection. Please consider installing libmagic for better results.\n",
      " 20%|██        | 1/5 [00:05<00:23,  5.96s/it]libmagic is unavailable but assists in filetype detection. Please consider installing libmagic for better results.\n",
      " 40%|████      | 2/5 [00:06<00:07,  2.57s/it]libmagic is unavailable but assists in filetype detection. Please consider installing libmagic for better results.\n",
      " 60%|██████    | 3/5 [00:06<00:02,  1.46s/it]libmagic is unavailable but assists in filetype detection. Please consider installing libmagic for better results.\n",
      " 80%|████████  | 4/5 [00:06<00:00,  1.03it/s]libmagic is unavailable but assists in filetype detection. Please consider installing libmagic for better results.\n",
      "100%|██████████| 5/5 [00:06<00:00,  1.34s/it]"
     ]
    },
    {
     "name": "stdout",
     "output_type": "stream",
     "text": [
      "Total characters: 51546\n"
     ]
    },
    {
     "name": "stderr",
     "output_type": "stream",
     "text": [
      "\n"
     ]
    }
   ],
   "source": [
    "from langchain_community.embeddings import HuggingFaceEmbeddings\n",
    "from langchain_community.document_loaders import DirectoryLoader\n",
    "\n",
    "embeddings = HuggingFaceEmbeddings(model_name=\"BAAI/bge-base-en-v1.5\")\n",
    "\n",
    "from langchain_core.vectorstores import InMemoryVectorStore\n",
    "\n",
    "vector_store = InMemoryVectorStore(embeddings)\n",
    "\n",
    "loader = DirectoryLoader(\n",
    "    path=\"./data/test\",\n",
    "    glob=\"**/*.txt\",\n",
    "    show_progress=True,\n",
    ")\n",
    "\n",
    "documents = loader.load()\n",
    "print(f\"Total characters: {len(documents[0].page_content)}\")"
   ]
  },
  {
   "cell_type": "code",
   "execution_count": 3,
   "id": "a63f7b57",
   "metadata": {},
   "outputs": [
    {
     "name": "stdout",
     "output_type": "stream",
     "text": [
      "Biology is the scientific study of life. It is a natural science with a broad scope but has several unifying themes that tie it together as a single, coherent field. For instance, all organisms are composed of at least one cell that processes hereditary information encoded in genes, which can be transmitted to future generations. Another major theme is evolution, which explains the unity and diversity of life. Energy processing is also important to life as it allows organisms to move, grow, and \n"
     ]
    }
   ],
   "source": [
    "print(documents[0].page_content[:500])"
   ]
  },
  {
   "cell_type": "code",
   "execution_count": 4,
   "id": "3743e411",
   "metadata": {},
   "outputs": [
    {
     "name": "stdout",
     "output_type": "stream",
     "text": [
      "Split wiki pages into 295 sub-documents.\n"
     ]
    }
   ],
   "source": [
    "from langchain_text_splitters import RecursiveCharacterTextSplitter\n",
    "\n",
    "text_splitter = RecursiveCharacterTextSplitter(\n",
    "    chunk_size=1000,  # chunk size (characters)\n",
    "    chunk_overlap=200,  # chunk overlap (characters)\n",
    "    add_start_index=True,  # track index in original document\n",
    ")\n",
    "all_splits = text_splitter.split_documents(documents)\n",
    "\n",
    "print(f\"Split wiki pages into {len(all_splits)} sub-documents.\")"
   ]
  },
  {
   "cell_type": "code",
   "execution_count": 5,
   "id": "4424436f",
   "metadata": {},
   "outputs": [
    {
     "name": "stdout",
     "output_type": "stream",
     "text": [
      "['7a7c3b24-6037-4441-bd49-9fcf3794d114', '02fc0569-a407-4804-84a8-7f373dbe2374', 'aee7f596-71d1-4feb-aa4f-176186e65674']\n"
     ]
    }
   ],
   "source": [
    "document_ids = vector_store.add_documents(documents=all_splits)\n",
    "\n",
    "print(document_ids[:3])"
   ]
  },
  {
   "cell_type": "code",
   "execution_count": 8,
   "id": "0f72d39a",
   "metadata": {},
   "outputs": [],
   "source": [
    "from langgraph.graph import START, StateGraph\n",
    "from typing_extensions import List, TypedDict\n",
    "from langchain_core.documents import Document\n",
    "from langchain_core.prompts import PromptTemplate\n",
    "\n",
    "template = \"\"\"Use the following pieces of context to answer the question at the end.\n",
    "If you don't know the answer, just say that you don't know, don't try to make up an answer.\n",
    "Use three sentences maximum and keep the answer as concise as possible.\n",
    "Always say \"thanks for asking!\" at the end of the answer.\n",
    "\n",
    "{context}\n",
    "\n",
    "Question: {question}\n",
    "\n",
    "Helpful Answer:\"\"\"\n",
    "prompt = PromptTemplate.from_template(template)\n",
    "\n",
    "class State(TypedDict):\n",
    "    question: str\n",
    "    context: List[Document]\n",
    "    answer: str\n",
    "\n",
    "\n",
    "# Define application steps\n",
    "def retrieve(state: State):\n",
    "    retrieved_docs = vector_store.similarity_search(state[\"question\"])\n",
    "    return {\"context\": retrieved_docs}\n",
    "\n",
    "\n",
    "def generate(state: State):\n",
    "    docs_content = \"\\n\\n\".join(doc.page_content for doc in state[\"context\"])\n",
    "    messages = prompt.invoke({\"question\": state[\"question\"], \"context\": docs_content})\n",
    "    response = llm.invoke(messages)\n",
    "    return {\n",
    "        \"answer\": response.content,\n",
    "        \"context\": state[\"context\"]  # Include context in final state\n",
    "    }\n",
    "\n",
    "\n",
    "# Compile application and test\n",
    "graph_builder = StateGraph(State).add_sequence([retrieve, generate])\n",
    "graph_builder.add_edge(START, \"retrieve\")\n",
    "graph = graph_builder.compile()"
   ]
  },
  {
   "cell_type": "code",
   "execution_count": null,
   "id": "b8516294",
   "metadata": {},
   "outputs": [
    {
     "name": "stdout",
     "output_type": "stream",
     "text": [
      "The Computer Science discipline covers a range of topics from theoretical computability to the implementation and design of computing systems in hardware and software. The four important areas recognized by the CSAB (Computing Sciences Accreditation Board) are Theory of Computation, Algorithmic and Data Structures, Programming Methodology and Languages, and Computer Elements and Architecture. Some fields of interest within CS include computational science (which includes financial and engineering applications), numerical and symbolic computation, and scientific computing (including simulation and optimization). Important applications of computers in society include war games, physical designs, circuit synthesis, and digital circuits. Human-computer interaction is another field of interest within CS, with topics ranging from programming languages to formal mathematical methods for computer programs. Overall, the CS discipline covers a wide range of topics and practical issues related to computing systems.\n"
     ]
    }
   ],
   "source": [
    "response = graph.invoke({\"question\": \"What is cs?\"})\n",
    "print(response)"
   ]
  },
  {
   "cell_type": "code",
   "execution_count": 11,
   "id": "ca7c8e99",
   "metadata": {},
   "outputs": [
    {
     "name": "stdout",
     "output_type": "stream",
     "text": [
      "{'question': 'What is cs?', 'context': [Document(id='657e0b2d-ded1-4124-9682-08f6dd0e1bee', metadata={'source': 'data\\\\test\\\\Computer_science.txt', 'start_index': 0}, page_content='Computer science is the study of computation, information, and automation. Computer science spans theoretical disciplines (such as algorithms, theory of computation, and information theory) to applied disciplines (including the design and implementation of hardware and software).'), Document(id='2ee5b589-3dd0-4c0f-868f-448299f06a27', metadata={'source': 'data\\\\test\\\\Computer_science.txt', 'start_index': 14719}, page_content='Fields\\n\\nAs a discipline, computer science spans a range of topics from theoretical studies of algorithms and the limits of computation to the practical issues of implementing computing systems in hardware and software. CSAB, formerly called Computing Sciences Accreditation Board—which is made up of representatives of the Association for Computing Machinery (ACM), and the IEEE Computer Society (IEEE CS)—identifies four areas that it considers crucial to the discipline of computer science: theory of computation, algorithms and data structures, programming methodology and languages, and computer elements and architecture. In addition to these four areas, CSAB also identifies fields such as software engineering, artificial intelligence, computer networking and communication, database systems, parallel computation, distributed computation, human–computer interaction, computer graphics, operating systems, and numerical and symbolic computation as being important areas of computer science.'), Document(id='10503e81-3f74-4c7c-a2a6-15eaa77eab40', metadata={'source': 'data\\\\test\\\\Computer_science.txt', 'start_index': 20449}, page_content='Computational science, finance and engineering\\n\\nScientific computing (or computational science) is the field of study concerned with constructing mathematical models and quantitative analysis techniques and using computers to analyze and solve scientific problems. A major usage of scientific computing is simulation of various processes, including computational fluid dynamics, physical, electrical, and electronic systems and circuits, as well as societies and social situations (notably war games) along with their habitats, among many others. Modern computers enable optimization of such designs as complete aircraft. Notable in electrical and electronic circuit design are SPICE, as well as software for physical realization of new (or modified) designs. The latter includes essential design software for integrated circuits.\\n\\nHuman–computer interaction'), Document(id='95a42802-8828-4336-b261-2b85db792aec', metadata={'source': 'data\\\\test\\\\Computer_science.txt', 'start_index': 13271}, page_content='Proponents of classifying computer science as a mathematical discipline argue that computer programs are physical realizations of mathematical entities and programs that can be deductively reasoned through mathematical formal methods. Computer scientists Edsger W. Dijkstra and Tony Hoare regard instructions for computer programs as mathematical sentences and interpret formal semantics for programming languages as mathematical axiomatic systems.\\n\\nParadigms of computer science')], 'answer': 'The Computer Science discipline covers a range of topics from theoretical computability to the implementation and design of computing systems in hardware and software. The four important areas recognized by the CSAB (Computing Sciences Accreditation Board) are Theory of Computation, Algorithmic and Data Structures, Programming Methodology and Languages, and Computer Elements and Architecture. Some fields of interest within CS include computational science (which includes financial and engineering applications), numerical and symbolic computation, and scientific computing (including simulation and optimization). Important applications of computers in society include war games, physical designs, circuit synthesis, and digital circuits. Human-computer interaction is another field of interest within CS, with topics ranging from programming languages to formal mathematical methods for computer programs. Overall, the CS discipline covers a wide range of topics and practical issues related to computing systems.'}\n"
     ]
    }
   ],
   "source": [
    "print(response)"
   ]
  },
  {
   "cell_type": "code",
   "execution_count": 12,
   "id": "4b36efdf",
   "metadata": {},
   "outputs": [
    {
     "name": "stdout",
     "output_type": "stream",
     "text": [
      "--- Document 1 ---\n",
      "Computer science is the study of computation, information, and automation. Computer science spans theoretical disciplines (such as algorithms, theory of computation, and information theory) to applied disciplines (including the design and implementation of hardware and software).\n",
      "\n",
      "--- Document 2 ---\n",
      "Fields\n",
      "\n",
      "As a discipline, computer science spans a range of topics from theoretical studies of algorithms and the limits of computation to the practical issues of implementing computing systems in hardware and software. CSAB, formerly called Computing Sciences Accreditation Board—which is made up of representatives of the Association for Computing Machinery (ACM), and the IEEE Computer Society (IEEE CS)—identifies four areas that it considers crucial to the discipline of computer science: theory of computation, algorithms and data structures, programming methodology and languages, and computer elements and architecture. In addition to these four areas, CSAB also identifies fields such as software engineering, artificial intelligence, computer networking and communication, database systems, parallel computation, distributed computation, human–computer interaction, computer graphics, operating systems, and numerical and symbolic computation as being important areas of computer science.\n",
      "\n",
      "--- Document 3 ---\n",
      "Computational science, finance and engineering\n",
      "\n",
      "Scientific computing (or computational science) is the field of study concerned with constructing mathematical models and quantitative analysis techniques and using computers to analyze and solve scientific problems. A major usage of scientific computing is simulation of various processes, including computational fluid dynamics, physical, electrical, and electronic systems and circuits, as well as societies and social situations (notably war games) along with their habitats, among many others. Modern computers enable optimization of such designs as complete aircraft. Notable in electrical and electronic circuit design are SPICE, as well as software for physical realization of new (or modified) designs. The latter includes essential design software for integrated circuits.\n",
      "\n",
      "Human–computer interaction\n",
      "\n",
      "--- Document 4 ---\n",
      "Proponents of classifying computer science as a mathematical discipline argue that computer programs are physical realizations of mathematical entities and programs that can be deductively reasoned through mathematical formal methods. Computer scientists Edsger W. Dijkstra and Tony Hoare regard instructions for computer programs as mathematical sentences and interpret formal semantics for programming languages as mathematical axiomatic systems.\n",
      "\n",
      "Paradigms of computer science\n",
      "\n"
     ]
    }
   ],
   "source": [
    "for i, doc in enumerate(response[\"context\"]):\n",
    "    print(f\"--- Document {i+1} ---\")\n",
    "    print(doc.page_content)\n",
    "    print()\n"
   ]
  }
 ],
 "metadata": {
  "kernelspec": {
   "display_name": "LLM_ENV_LANGCHAIN",
   "language": "python",
   "name": "python3"
  },
  "language_info": {
   "codemirror_mode": {
    "name": "ipython",
    "version": 3
   },
   "file_extension": ".py",
   "mimetype": "text/x-python",
   "name": "python",
   "nbconvert_exporter": "python",
   "pygments_lexer": "ipython3",
   "version": "3.13.2"
  }
 },
 "nbformat": 4,
 "nbformat_minor": 5
}

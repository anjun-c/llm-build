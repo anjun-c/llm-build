{
 "cells": [
  {
   "cell_type": "code",
   "execution_count": 1,
   "metadata": {},
   "outputs": [
    {
     "name": "stderr",
     "output_type": "stream",
     "text": [
      "c:\\Users\\adria\\anaconda3\\envs\\llm_env\\Lib\\site-packages\\tqdm\\auto.py:21: TqdmWarning: IProgress not found. Please update jupyter and ipywidgets. See https://ipywidgets.readthedocs.io/en/stable/user_install.html\n",
      "  from .autonotebook import tqdm as notebook_tqdm\n"
     ]
    }
   ],
   "source": [
    "from llama_index.llms.ollama import Ollama\n",
    "from llama_index.core import StorageContext, load_index_from_storage\n",
    "from llama_index.embeddings.huggingface import HuggingFaceEmbedding\n",
    "\n",
    "embed_model = HuggingFaceEmbedding(model_name=\"BAAI/bge-small-en-v1.5\")\n",
    "\n",
    "storage_context = StorageContext.from_defaults(persist_dir=\"index\")\n",
    "\n",
    "index = load_index_from_storage(storage_context)"
   ]
  },
  {
   "cell_type": "code",
   "execution_count": 2,
   "metadata": {},
   "outputs": [
    {
     "name": "stdout",
     "output_type": "stream",
     "text": [
      "<think>\n",
      "Okay, so I need to figure out what computer science is based on the given context. Let me start by reading through the provided text carefully.\n",
      "\n",
      "On page 1 of Computer_science.pdf, it says that computer science is the study of computation, information, and automation. It spans both theoretical disciplines like algorithms and data structures, computational complexity theory, artificial intelligence, and areas like computer architecture, programming language theory, database theory, human-computer interaction, software engineering, operating systems, networks, embedded systems, and more.\n",
      "\n",
      "It mentions that the fundamental concern is determining what can be automated. The Turing Award is a high distinction in this field. The history of computer science traces back to ancient machines like the abacus and includes figures like Gottfried Wilhelm Leibniz, Charles Babbage, Ada Lovelace, Herman Hollerith, and others who contributed significantly.\n",
      "\n",
      "On page 2, it discusses the relationship between computer science and software engineering, touching on debates about whether computer science is a mathematical, scientific, or engineering discipline. It quotes Allen Newell and Herbert A. Simon, who considered computer science an empirical science akin to astronomy and geology. Proponents from different fields argue for its classification within mathematics, science, or engineering based on aspects like empirical testing, physical realization of mathematical entities, and reliability as in engineering.\n",
      "\n",
      "Putting this together, computer science encompasses a broad range of theoretical and applied topics related to computation, information processing, automation, algorithms, data structures, programming, and the development and analysis of software and hardware systems. It involves both foundational theories and practical applications across various fields.\n",
      "</think>\n",
      "\n",
      "Computer science is the broad field that studies computation, information, and automation, encompassing both theoretical disciplines like algorithms, computational complexity, and artificial intelligence, as well as applied areas such as computer architecture, programming languages, databases, human-computer interaction, software engineering, operating systems, networks, and embedded systems. It aims to determine what can be automated and involves the creation and analysis of computational systems through a range of methodologies, often debated within the field as to whether it falls under mathematics, science, or engineering.\n"
     ]
    }
   ],
   "source": [
    "llm = Ollama(model=\"deepseek-r1:8b\")\n",
    "\n",
    "query_engine = index.as_query_engine(llm=llm, embed_model=embed_model)\n",
    "response = query_engine.query(\"What is computer science?\")\n",
    "print(response)"
   ]
  }
 ],
 "metadata": {
  "kernelspec": {
   "display_name": "llm_env",
   "language": "python",
   "name": "python3"
  },
  "language_info": {
   "codemirror_mode": {
    "name": "ipython",
    "version": 3
   },
   "file_extension": ".py",
   "mimetype": "text/x-python",
   "name": "python",
   "nbconvert_exporter": "python",
   "pygments_lexer": "ipython3",
   "version": "3.13.2"
  }
 },
 "nbformat": 4,
 "nbformat_minor": 2
}
